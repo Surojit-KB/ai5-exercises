{
  "nbformat": 4,
  "nbformat_minor": 0,
  "metadata": {
    "colab": {
      "name": "AI-5 Exercise_2.ipynb",
      "provenance": [],
      "collapsed_sections": []
    },
    "kernelspec": {
      "display_name": "Python 3",
      "name": "python3"
    },
    "language_info": {
      "name": "python"
    }
  },
  "cells": [
    {
      "cell_type": "markdown",
      "metadata": {
        "id": "MfTh4bUzAmSX"
      },
      "source": [
        "<h1 style=\"padding-top: 25px;padding-bottom: 25px;text-align: left; padding-left: 10px; background-color: #DDDDDD; \n",
        "    color: black;\"> <img style=\"float: left; padding-right: 10px;\" src=\"https://storage.googleapis.com/dlops-content/public/univailogo.jpeg\" height=\"50px\"> <a href='https://welcome.univ.ai/AcceleratedMasters/ai5-c1/' target='_blank'><strong><font color=\"#324bd9\">AI-5: Productionizing AI (MLOps)</font></strong></a></h1>\n",
        "\n",
        "# **<font color=\"#324bd9\">Exercise 2 - Dask</font>**\n",
        "\n",
        "**Univ.AI**<br/>\n",
        "**August 2021**<br/>\n",
        "**Instructors:**<br/>\n",
        "Pavlos Protopapas, Shivas Jayaram\n",
        "\n",
        "<hr style=\"height:2pt\">"
      ]
    },
    {
      "cell_type": "markdown",
      "metadata": {
        "id": "FgY9xWhgGdt8"
      },
      "source": [
        "## **<font color=\"#324bd9\">Setup Notebook</font>**"
      ]
    },
    {
      "cell_type": "markdown",
      "metadata": {
        "id": "c-HGo-xOGr2t"
      },
      "source": [
        "**Copy & setup Colab**"
      ]
    },
    {
      "cell_type": "markdown",
      "metadata": {
        "id": "4qfXH3wYGtSa"
      },
      "source": [
        "1) Select \"File\" menu and pick \"Save a copy in Drive\""
      ]
    },
    {
      "cell_type": "markdown",
      "metadata": {
        "id": "TljsNDvO8mex"
      },
      "source": [
        "**Installs**"
      ]
    },
    {
      "cell_type": "code",
      "metadata": {
        "id": "OpB5zrQm8m8y",
        "colab": {
          "base_uri": "https://localhost:8080/"
        },
        "outputId": "57697954-77a1-44e0-f752-d7d4bc04c28f"
      },
      "source": [
        "!pip install dask dask[dataframe] dask-image"
      ],
      "execution_count": 1,
      "outputs": [
        {
          "output_type": "stream",
          "text": [
            "Requirement already satisfied: dask in /usr/local/lib/python3.7/dist-packages (2.12.0)\n",
            "Requirement already satisfied: dask-image in /usr/local/lib/python3.7/dist-packages (0.6.0)\n",
            "Requirement already satisfied: pims>=0.4.1 in /usr/local/lib/python3.7/dist-packages (from dask-image) (0.5)\n",
            "Requirement already satisfied: numpy>=1.11.3 in /usr/local/lib/python3.7/dist-packages (from dask-image) (1.19.5)\n",
            "Requirement already satisfied: scipy>=0.19.1 in /usr/local/lib/python3.7/dist-packages (from dask-image) (1.4.1)\n",
            "Requirement already satisfied: toolz>=0.7.3 in /usr/local/lib/python3.7/dist-packages (from dask) (0.11.1)\n",
            "Requirement already satisfied: slicerator>=0.9.8 in /usr/local/lib/python3.7/dist-packages (from pims>=0.4.1->dask-image) (1.0.0)\n",
            "Requirement already satisfied: six>=1.8 in /usr/local/lib/python3.7/dist-packages (from pims>=0.4.1->dask-image) (1.15.0)\n",
            "Requirement already satisfied: pandas>=0.23.0 in /usr/local/lib/python3.7/dist-packages (from dask) (1.1.5)\n",
            "Requirement already satisfied: fsspec>=0.6.0 in /usr/local/lib/python3.7/dist-packages (from dask) (2021.7.0)\n",
            "Requirement already satisfied: partd>=0.3.10 in /usr/local/lib/python3.7/dist-packages (from dask) (1.2.0)\n",
            "Requirement already satisfied: pytz>=2017.2 in /usr/local/lib/python3.7/dist-packages (from pandas>=0.23.0->dask) (2018.9)\n",
            "Requirement already satisfied: python-dateutil>=2.7.3 in /usr/local/lib/python3.7/dist-packages (from pandas>=0.23.0->dask) (2.8.2)\n",
            "Requirement already satisfied: locket in /usr/local/lib/python3.7/dist-packages (from partd>=0.3.10->dask) (0.2.1)\n"
          ],
          "name": "stdout"
        }
      ]
    },
    {
      "cell_type": "markdown",
      "metadata": {
        "id": "xsHQIdyQHAkV"
      },
      "source": [
        "**Imports**"
      ]
    },
    {
      "cell_type": "code",
      "metadata": {
        "id": "dB7OG0AQAlha"
      },
      "source": [
        "import os\n",
        "import requests\n",
        "import zipfile\n",
        "import tarfile\n",
        "import shutil\n",
        "import math\n",
        "import json\n",
        "import time\n",
        "import sys\n",
        "import numpy as np\n",
        "import pandas as pd\n",
        "\n",
        "# Dask\n",
        "import dask\n",
        "import dask.dataframe as dd\n",
        "import dask.array as da\n",
        "import dask.delayed as delayed\n",
        "from dask.diagnostics import ProgressBar\n"
      ],
      "execution_count": 2,
      "outputs": []
    },
    {
      "cell_type": "markdown",
      "metadata": {
        "id": "6i3sZbohM2K_"
      },
      "source": [
        "**Utils**"
      ]
    },
    {
      "cell_type": "markdown",
      "metadata": {
        "id": "AIn5czLvM2sS"
      },
      "source": [
        "Here are some util functions that we will be using for this exercise"
      ]
    },
    {
      "cell_type": "code",
      "metadata": {
        "id": "wm_puO9WSoq3"
      },
      "source": [
        "def download_file(packet_url, base_path=\"\", extract=False, headers=None):\n",
        "  if base_path != \"\":\n",
        "    if not os.path.exists(base_path):\n",
        "      os.mkdir(base_path)\n",
        "  packet_file = os.path.basename(packet_url)\n",
        "  with requests.get(packet_url, stream=True, headers=headers) as r:\n",
        "      r.raise_for_status()\n",
        "      with open(os.path.join(base_path,packet_file), 'wb') as f:\n",
        "          for chunk in r.iter_content(chunk_size=8192):\n",
        "              f.write(chunk)\n",
        "  \n",
        "  if extract:\n",
        "    if packet_file.endswith(\".zip\"):\n",
        "      with zipfile.ZipFile(os.path.join(base_path,packet_file)) as zfile:\n",
        "        zfile.extractall(base_path)\n",
        "    else:\n",
        "      packet_name = packet_file.split('.')[0]\n",
        "      with tarfile.open(os.path.join(base_path,packet_file)) as tfile:\n",
        "        tfile.extractall(base_path)"
      ],
      "execution_count": 3,
      "outputs": []
    },
    {
      "cell_type": "markdown",
      "metadata": {
        "id": "0S7SfN033avL"
      },
      "source": [
        "## **<font color=\"#324bd9\">Dataset</font>**"
      ]
    },
    {
      "cell_type": "markdown",
      "metadata": {
        "id": "4XG4wAf13NTD"
      },
      "source": [
        "### **Load Data**"
      ]
    },
    {
      "cell_type": "code",
      "metadata": {
        "id": "yYcm05rgU7ts",
        "colab": {
          "base_uri": "https://localhost:8080/"
        },
        "outputId": "ef8b6be4-f470-4253-e531-a81b950acc18"
      },
      "source": [
        "start_time = time.time()\n",
        "download_file(\"https://github.com/dlops-io/datasets/releases/download/v1.0/Parking_Violations_Issued_-_Fiscal_Year_2017.csv.zip\", base_path=\"datasets\", extract=True)\n",
        "execution_time = (time.time() - start_time)/60.0\n",
        "print(\"Download execution time (mins)\",execution_time)"
      ],
      "execution_count": 4,
      "outputs": [
        {
          "output_type": "stream",
          "text": [
            "Download execution time (mins) 0.6993973930676778\n"
          ],
          "name": "stdout"
        }
      ]
    },
    {
      "cell_type": "code",
      "metadata": {
        "id": "zYyuvydtXTBC"
      },
      "source": [
        "parking_violation_csv = os.path.join(\"datasets\",\"Parking_Violations_Issued_-_Fiscal_Year_2017.csv\")"
      ],
      "execution_count": 5,
      "outputs": []
    },
    {
      "cell_type": "markdown",
      "metadata": {
        "id": "EUOQpHBwSCtO"
      },
      "source": [
        "## Compute Pi with a Slowly Converging Series\n",
        "\n",
        "Leibniz published one of the oldest known series in 1676.  While this is easy to understand and derive, it converges very slowly.\n",
        "https://en.wikipedia.org/wiki/Leibniz_formula_for_%CF%80 <br/>\n",
        "$$\\frac{\\pi}{4} = 1 - \\frac{1}{3} + \\frac{1}{5} - \\frac{1}{7} ...$$\n",
        "\n",
        "While this is a genuinely cruel way to compute the value of $\\pi$, it’s a fun opportunity to use brute force on a problem instead of thinking.\n",
        "Compute using at least four billion terms in this sequence. Compare your time taken with numpy and dask.  On my mac, with numpy this took 44 seconds and with dask it took 5.7 seconds. \n",
        "\n",
        "*Hint:* Use dask array"
      ]
    },
    {
      "cell_type": "markdown",
      "metadata": {
        "id": "-u_b1FUFVLua"
      },
      "source": [
        "**Checking  1e9 * 4  terms with numpy**\n",
        "\n",
        "If 1e9 * 4 fails, try 1e9 * 2"
      ]
    },
    {
      "cell_type": "code",
      "metadata": {
        "id": "N2CAJccZVIDe",
        "colab": {
          "base_uri": "https://localhost:8080/"
        },
        "outputId": "c8b927ef-1093-4cfe-9407-e1af7db2566d"
      },
      "source": [
        "# Your code here\n",
        "start_time=time.time()\n",
        "pi_computed= 4*(np.sum(1/(np.arange(1,1e9*2,4)) - 1/(np.arange(3,1e9*2,4))))\n",
        "print('Pi value:',pi_computed)\n",
        "compute_time= time.time() -start_time\n",
        "print('Compute time required',compute_time)"
      ],
      "execution_count": 6,
      "outputs": [
        {
          "output_type": "stream",
          "text": [
            "Pi value: 3.1415926525897797\n",
            "Compute time required 15.373815774917603\n"
          ],
          "name": "stdout"
        }
      ]
    },
    {
      "cell_type": "code",
      "metadata": {
        "id": "Ic3QeXZ6VIGY",
        "colab": {
          "base_uri": "https://localhost:8080/"
        },
        "outputId": "b01bdedd-27fe-444e-c600-6ca50acb72e0"
      },
      "source": [
        "# Error \n",
        "error = np.abs(pi_computed-np.pi)\n",
        "\n",
        "# Report Results\n",
        "print(f'Pi real value = {np.pi:14.12f}')\n",
        "print(f'Pi computed value = {pi_computed:14.12f}')\n",
        "print(f'Error = {error:6.3e}')"
      ],
      "execution_count": 7,
      "outputs": [
        {
          "output_type": "stream",
          "text": [
            "Pi real value = 3.141592653590\n",
            "Pi computed value = 3.141592652590\n",
            "Error = 1.000e-09\n"
          ],
          "name": "stdout"
        }
      ]
    },
    {
      "cell_type": "markdown",
      "metadata": {
        "id": "xWEU_dHFVSsO"
      },
      "source": [
        "**Checking  1e9 * 4  terms with Dask**"
      ]
    },
    {
      "cell_type": "code",
      "metadata": {
        "id": "VcjKNmoHVTGJ"
      },
      "source": [
        "# Your code here\n",
        "@dask.delayed\n",
        "def pi_compute():\n",
        "  pi = 4*(da.sum(1/(da.arange(1,1e9*4,4)) - 1/(da.arange(3,1e9*4,4))))\n",
        "  return pi\n",
        "step3_pi = pi_compute()"
      ],
      "execution_count": 8,
      "outputs": []
    },
    {
      "cell_type": "code",
      "metadata": {
        "colab": {
          "base_uri": "https://localhost:8080/"
        },
        "id": "R8JMsZwLLAkG",
        "outputId": "5e96edf7-a409-4f2e-91cb-3282edbcd7cb"
      },
      "source": [
        "start_time = time.time()\n",
        "step3_pi = step3_pi.compute()\n",
        "compute_time=time.time()-start_time\n",
        "print('Compute time required',compute_time)"
      ],
      "execution_count": 11,
      "outputs": [
        {
          "output_type": "stream",
          "text": [
            "Compute time required 7.950492858886719\n"
          ],
          "name": "stdout"
        }
      ]
    },
    {
      "cell_type": "code",
      "metadata": {
        "id": "5BobZYkLVTIq",
        "colab": {
          "base_uri": "https://localhost:8080/"
        },
        "outputId": "912c4b48-4f77-4b87-de4d-29bb11843c48"
      },
      "source": [
        "error = np.abs(step3_pi - np.pi)\n",
        "\n",
        "# Report Results\n",
        "print(f'Pi real value = {np.pi:14.12f}')\n",
        "print(f'Pi computed value = {step3_pi:14.12f}')\n",
        "print(f'Error = {error:6.3e}')"
      ],
      "execution_count": 12,
      "outputs": [
        {
          "output_type": "stream",
          "text": [
            "Pi real value = 3.141592653590\n",
            "Pi computed value = 3.141592653090\n",
            "Error = 5.000e-10\n"
          ],
          "name": "stdout"
        }
      ]
    },
    {
      "cell_type": "markdown",
      "metadata": {
        "id": "2elAV0rjVaB2"
      },
      "source": [
        "## Filter Parking Tickets Dataset\n",
        "\n",
        "According to the documentation for the parking tickets data set, the column called ‘Plate Type’ consists mainly of two different types: ‘PAS’ and ‘COM’, presumably for passenger and commercial vehicles, respectively. Maybe the rest are the famous parking tickets from the UN diplomats, who take advantage of diplomatic immunity not to pay their fines.\n",
        "\n",
        "Create a filtered Dask DataFrame with only the commercial plates.\n",
        "Persist it, so it is available in memory for future computations. Count the number of summonses in 2017 (i.e., Issue Year in 2016, 2017) issued to commercial plate types. Compute them as a percentage of the total data set. \n",
        "\n",
        "*Hint*: This is easy; it is only about 5-7 lines of code."
      ]
    },
    {
      "cell_type": "code",
      "metadata": {
        "id": "_5gQx0DRVagl",
        "colab": {
          "base_uri": "https://localhost:8080/",
          "height": 452
        },
        "outputId": "a2215c12-d5f9-481f-f6b8-28d3b4028608"
      },
      "source": [
        "dict_1 = {'Summons Number': 'int64', 'Plate ID': 'object', 'Registration State': 'object', 'Plate Type': 'object',\n",
        " 'Issue Date': 'object', 'Violation Code': 'int64', 'Vehicle Body Type': 'object', 'Vehicle Make': 'object',\n",
        " 'Issuing Agency': 'object', 'Street Code1': 'int64', 'Street Code2': 'int64', 'Street Code3': 'int64',\n",
        " 'Vehicle Expiration Date': 'int64', 'Violation Location': 'float64', 'Violation Precinct': 'int64', 'Issuer Precinct': 'int64',\n",
        " 'Issuer Code': 'int64', 'Issuer Command': 'object', 'Issuer Squad': 'object', 'Violation Time': 'object',\n",
        " 'Time First Observed': 'object', 'Violation County': 'object', 'Violation In Front Of Or Opposite': 'object', 'House Number': 'object',\n",
        " 'Street Name': 'object', 'Intersecting Street': 'object', 'Date First Observed': 'int64', 'Law Section': 'int64',\n",
        " 'Sub Division': 'object', 'Violation Legal Code': 'object', 'Days Parking In Effect    ': 'object', 'From Hours In Effect': 'object',\n",
        " 'To Hours In Effect': 'object', 'Vehicle Color': 'object', 'Unregistered Vehicle?': 'float64', 'Vehicle Year': 'int64',\n",
        " 'Meter Number': 'object', 'Feet From Curb': 'int64', 'Violation Post Code': 'object', 'Violation Description': 'object',\n",
        " 'No Standing or Stopping Violation': 'float64', 'Hydrant Violation': 'float64', 'Double Parking Violation': 'float64'}\n",
        "\n",
        "# This is to avoid the  DtypeWarning \n",
        "df = dd.read_csv(parking_violation_csv,  dtype=dict_1)\n",
        "df.head()"
      ],
      "execution_count": 13,
      "outputs": [
        {
          "output_type": "execute_result",
          "data": {
            "text/html": [
              "<div>\n",
              "<style scoped>\n",
              "    .dataframe tbody tr th:only-of-type {\n",
              "        vertical-align: middle;\n",
              "    }\n",
              "\n",
              "    .dataframe tbody tr th {\n",
              "        vertical-align: top;\n",
              "    }\n",
              "\n",
              "    .dataframe thead th {\n",
              "        text-align: right;\n",
              "    }\n",
              "</style>\n",
              "<table border=\"1\" class=\"dataframe\">\n",
              "  <thead>\n",
              "    <tr style=\"text-align: right;\">\n",
              "      <th></th>\n",
              "      <th>Summons Number</th>\n",
              "      <th>Plate ID</th>\n",
              "      <th>Registration State</th>\n",
              "      <th>Plate Type</th>\n",
              "      <th>Issue Date</th>\n",
              "      <th>Violation Code</th>\n",
              "      <th>Vehicle Body Type</th>\n",
              "      <th>Vehicle Make</th>\n",
              "      <th>Issuing Agency</th>\n",
              "      <th>Street Code1</th>\n",
              "      <th>Street Code2</th>\n",
              "      <th>Street Code3</th>\n",
              "      <th>Vehicle Expiration Date</th>\n",
              "      <th>Violation Location</th>\n",
              "      <th>Violation Precinct</th>\n",
              "      <th>Issuer Precinct</th>\n",
              "      <th>Issuer Code</th>\n",
              "      <th>Issuer Command</th>\n",
              "      <th>Issuer Squad</th>\n",
              "      <th>Violation Time</th>\n",
              "      <th>Time First Observed</th>\n",
              "      <th>Violation County</th>\n",
              "      <th>Violation In Front Of Or Opposite</th>\n",
              "      <th>House Number</th>\n",
              "      <th>Street Name</th>\n",
              "      <th>Intersecting Street</th>\n",
              "      <th>Date First Observed</th>\n",
              "      <th>Law Section</th>\n",
              "      <th>Sub Division</th>\n",
              "      <th>Violation Legal Code</th>\n",
              "      <th>Days Parking In Effect</th>\n",
              "      <th>From Hours In Effect</th>\n",
              "      <th>To Hours In Effect</th>\n",
              "      <th>Vehicle Color</th>\n",
              "      <th>Unregistered Vehicle?</th>\n",
              "      <th>Vehicle Year</th>\n",
              "      <th>Meter Number</th>\n",
              "      <th>Feet From Curb</th>\n",
              "      <th>Violation Post Code</th>\n",
              "      <th>Violation Description</th>\n",
              "      <th>No Standing or Stopping Violation</th>\n",
              "      <th>Hydrant Violation</th>\n",
              "      <th>Double Parking Violation</th>\n",
              "    </tr>\n",
              "  </thead>\n",
              "  <tbody>\n",
              "    <tr>\n",
              "      <th>0</th>\n",
              "      <td>5092469481</td>\n",
              "      <td>GZH7067</td>\n",
              "      <td>NY</td>\n",
              "      <td>PAS</td>\n",
              "      <td>07/10/2016</td>\n",
              "      <td>7</td>\n",
              "      <td>SUBN</td>\n",
              "      <td>TOYOT</td>\n",
              "      <td>V</td>\n",
              "      <td>0</td>\n",
              "      <td>0</td>\n",
              "      <td>0</td>\n",
              "      <td>0</td>\n",
              "      <td>NaN</td>\n",
              "      <td>0</td>\n",
              "      <td>0</td>\n",
              "      <td>0</td>\n",
              "      <td>NaN</td>\n",
              "      <td>NaN</td>\n",
              "      <td>0143A</td>\n",
              "      <td>NaN</td>\n",
              "      <td>BX</td>\n",
              "      <td>NaN</td>\n",
              "      <td>NaN</td>\n",
              "      <td>ALLERTON AVE (W/B) @</td>\n",
              "      <td>BARNES AVE</td>\n",
              "      <td>0</td>\n",
              "      <td>1111</td>\n",
              "      <td>D</td>\n",
              "      <td>T</td>\n",
              "      <td>NaN</td>\n",
              "      <td>NaN</td>\n",
              "      <td>NaN</td>\n",
              "      <td>GY</td>\n",
              "      <td>NaN</td>\n",
              "      <td>2001</td>\n",
              "      <td>NaN</td>\n",
              "      <td>0</td>\n",
              "      <td>NaN</td>\n",
              "      <td>FAILURE TO STOP AT RED LIGHT</td>\n",
              "      <td>NaN</td>\n",
              "      <td>NaN</td>\n",
              "      <td>NaN</td>\n",
              "    </tr>\n",
              "    <tr>\n",
              "      <th>1</th>\n",
              "      <td>5092451658</td>\n",
              "      <td>GZH7067</td>\n",
              "      <td>NY</td>\n",
              "      <td>PAS</td>\n",
              "      <td>07/08/2016</td>\n",
              "      <td>7</td>\n",
              "      <td>SUBN</td>\n",
              "      <td>TOYOT</td>\n",
              "      <td>V</td>\n",
              "      <td>0</td>\n",
              "      <td>0</td>\n",
              "      <td>0</td>\n",
              "      <td>0</td>\n",
              "      <td>NaN</td>\n",
              "      <td>0</td>\n",
              "      <td>0</td>\n",
              "      <td>0</td>\n",
              "      <td>NaN</td>\n",
              "      <td>NaN</td>\n",
              "      <td>0400P</td>\n",
              "      <td>NaN</td>\n",
              "      <td>BX</td>\n",
              "      <td>NaN</td>\n",
              "      <td>NaN</td>\n",
              "      <td>ALLERTON AVE (W/B) @</td>\n",
              "      <td>BARNES AVE</td>\n",
              "      <td>0</td>\n",
              "      <td>1111</td>\n",
              "      <td>D</td>\n",
              "      <td>T</td>\n",
              "      <td>NaN</td>\n",
              "      <td>NaN</td>\n",
              "      <td>NaN</td>\n",
              "      <td>GY</td>\n",
              "      <td>NaN</td>\n",
              "      <td>2001</td>\n",
              "      <td>NaN</td>\n",
              "      <td>0</td>\n",
              "      <td>NaN</td>\n",
              "      <td>FAILURE TO STOP AT RED LIGHT</td>\n",
              "      <td>NaN</td>\n",
              "      <td>NaN</td>\n",
              "      <td>NaN</td>\n",
              "    </tr>\n",
              "    <tr>\n",
              "      <th>2</th>\n",
              "      <td>4006265037</td>\n",
              "      <td>FZX9232</td>\n",
              "      <td>NY</td>\n",
              "      <td>PAS</td>\n",
              "      <td>08/23/2016</td>\n",
              "      <td>5</td>\n",
              "      <td>SUBN</td>\n",
              "      <td>FORD</td>\n",
              "      <td>V</td>\n",
              "      <td>0</td>\n",
              "      <td>0</td>\n",
              "      <td>0</td>\n",
              "      <td>0</td>\n",
              "      <td>NaN</td>\n",
              "      <td>0</td>\n",
              "      <td>0</td>\n",
              "      <td>0</td>\n",
              "      <td>NaN</td>\n",
              "      <td>NaN</td>\n",
              "      <td>0233P</td>\n",
              "      <td>NaN</td>\n",
              "      <td>BX</td>\n",
              "      <td>NaN</td>\n",
              "      <td>NaN</td>\n",
              "      <td>SB WEBSTER AVE @ E 1</td>\n",
              "      <td>94TH ST</td>\n",
              "      <td>0</td>\n",
              "      <td>1111</td>\n",
              "      <td>C</td>\n",
              "      <td>T</td>\n",
              "      <td>NaN</td>\n",
              "      <td>NaN</td>\n",
              "      <td>NaN</td>\n",
              "      <td>BK</td>\n",
              "      <td>NaN</td>\n",
              "      <td>2004</td>\n",
              "      <td>NaN</td>\n",
              "      <td>0</td>\n",
              "      <td>NaN</td>\n",
              "      <td>BUS LANE VIOLATION</td>\n",
              "      <td>NaN</td>\n",
              "      <td>NaN</td>\n",
              "      <td>NaN</td>\n",
              "    </tr>\n",
              "    <tr>\n",
              "      <th>3</th>\n",
              "      <td>8478629828</td>\n",
              "      <td>66623ME</td>\n",
              "      <td>NY</td>\n",
              "      <td>COM</td>\n",
              "      <td>06/14/2017</td>\n",
              "      <td>47</td>\n",
              "      <td>REFG</td>\n",
              "      <td>MITSU</td>\n",
              "      <td>T</td>\n",
              "      <td>10610</td>\n",
              "      <td>34330</td>\n",
              "      <td>34350</td>\n",
              "      <td>20180630</td>\n",
              "      <td>14.0</td>\n",
              "      <td>14</td>\n",
              "      <td>14</td>\n",
              "      <td>359594</td>\n",
              "      <td>T102</td>\n",
              "      <td>J</td>\n",
              "      <td>1120A</td>\n",
              "      <td>NaN</td>\n",
              "      <td>NY</td>\n",
              "      <td>O</td>\n",
              "      <td>330</td>\n",
              "      <td>7th Ave</td>\n",
              "      <td>NaN</td>\n",
              "      <td>0</td>\n",
              "      <td>408</td>\n",
              "      <td>l2</td>\n",
              "      <td>NaN</td>\n",
              "      <td>Y</td>\n",
              "      <td>0700A</td>\n",
              "      <td>0700P</td>\n",
              "      <td>WH</td>\n",
              "      <td>NaN</td>\n",
              "      <td>2007</td>\n",
              "      <td>NaN</td>\n",
              "      <td>0</td>\n",
              "      <td>04</td>\n",
              "      <td>47-Double PKG-Midtown</td>\n",
              "      <td>NaN</td>\n",
              "      <td>NaN</td>\n",
              "      <td>NaN</td>\n",
              "    </tr>\n",
              "    <tr>\n",
              "      <th>4</th>\n",
              "      <td>7868300310</td>\n",
              "      <td>37033JV</td>\n",
              "      <td>NY</td>\n",
              "      <td>COM</td>\n",
              "      <td>11/21/2016</td>\n",
              "      <td>69</td>\n",
              "      <td>DELV</td>\n",
              "      <td>INTER</td>\n",
              "      <td>T</td>\n",
              "      <td>10510</td>\n",
              "      <td>34310</td>\n",
              "      <td>34330</td>\n",
              "      <td>20170228</td>\n",
              "      <td>13.0</td>\n",
              "      <td>13</td>\n",
              "      <td>13</td>\n",
              "      <td>364832</td>\n",
              "      <td>T102</td>\n",
              "      <td>M</td>\n",
              "      <td>0555P</td>\n",
              "      <td>NaN</td>\n",
              "      <td>NY</td>\n",
              "      <td>F</td>\n",
              "      <td>799</td>\n",
              "      <td>6th Ave</td>\n",
              "      <td>NaN</td>\n",
              "      <td>0</td>\n",
              "      <td>408</td>\n",
              "      <td>h1</td>\n",
              "      <td>NaN</td>\n",
              "      <td>Y</td>\n",
              "      <td>0700A</td>\n",
              "      <td>0700P</td>\n",
              "      <td>WHITE</td>\n",
              "      <td>NaN</td>\n",
              "      <td>2007</td>\n",
              "      <td>NaN</td>\n",
              "      <td>0</td>\n",
              "      <td>31 6</td>\n",
              "      <td>69-Failure to Disp Muni Recpt</td>\n",
              "      <td>NaN</td>\n",
              "      <td>NaN</td>\n",
              "      <td>NaN</td>\n",
              "    </tr>\n",
              "  </tbody>\n",
              "</table>\n",
              "</div>"
            ],
            "text/plain": [
              "   Summons Number Plate ID  ... Hydrant Violation Double Parking Violation\n",
              "0      5092469481  GZH7067  ...               NaN                      NaN\n",
              "1      5092451658  GZH7067  ...               NaN                      NaN\n",
              "2      4006265037  FZX9232  ...               NaN                      NaN\n",
              "3      8478629828  66623ME  ...               NaN                      NaN\n",
              "4      7868300310  37033JV  ...               NaN                      NaN\n",
              "\n",
              "[5 rows x 43 columns]"
            ]
          },
          "metadata": {
            "tags": []
          },
          "execution_count": 13
        }
      ]
    },
    {
      "cell_type": "code",
      "metadata": {
        "id": "XqR1v5OZVajU"
      },
      "source": [
        "# Your code here\n",
        "df_size = df.index.size\n",
        "df_com = df[df['Plate Type']=='COM']\n",
        "df_issue_year = df_com[(dd.to_datetime(df_com['Issue Date']).dt.year == 2016) | (dd.to_datetime(df_com['Issue Date']).dt.year == 2017)]\n",
        "num_commercial_2017 = df_issue_year.index.size\n",
        "pct_commercial= (df_issue_year.index.size/df_size)*100"
      ],
      "execution_count": 23,
      "outputs": []
    },
    {
      "cell_type": "code",
      "metadata": {
        "colab": {
          "base_uri": "https://localhost:8080/"
        },
        "id": "47-axdSbICmL",
        "outputId": "e46ba5c2-0471-42db-dc07-0aec793fb57d"
      },
      "source": [
        "with ProgressBar():\n",
        "  num_commercial_2017 ,pct_commercial = dask.compute(num_commercial_2017,pct_commercial)"
      ],
      "execution_count": 24,
      "outputs": [
        {
          "output_type": "stream",
          "text": [
            "[########################################] | 100% Completed | 57.6s\n"
          ],
          "name": "stdout"
        }
      ]
    },
    {
      "cell_type": "code",
      "metadata": {
        "id": "Mdvcd_pkVpWe",
        "colab": {
          "base_uri": "https://localhost:8080/"
        },
        "outputId": "6a7e68e8-1d6d-427e-d44b-763da6149440"
      },
      "source": [
        "# Percentage relative to all the parking tickets in 2017\n",
        "print(f'Number of NYC summonses with commercial plates in 2017 was {num_commercial_2017}')\n",
        "print(f'Percentage {pct_commercial:5.2f}')"
      ],
      "execution_count": 25,
      "outputs": [
        {
          "output_type": "stream",
          "text": [
            "Number of NYC summonses with commercial plates in 2017 was 1838970\n",
            "Percentage 17.02\n"
          ],
          "name": "stdout"
        }
      ]
    }
  ]
}